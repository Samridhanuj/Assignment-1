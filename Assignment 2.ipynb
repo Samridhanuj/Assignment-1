{
  "metadata": {
    "kernelspec": {
      "name": "python",
      "display_name": "Python (Pyodide)",
      "language": "python"
    },
    "language_info": {
      "codemirror_mode": {
        "name": "python",
        "version": 3
      },
      "file_extension": ".py",
      "mimetype": "text/x-python",
      "name": "python",
      "nbconvert_exporter": "python",
      "pygments_lexer": "ipython3",
      "version": "3.8"
    }
  },
  "nbformat_minor": 4,
  "nbformat": 4,
  "cells": [
    {
      "cell_type": "code",
      "source": "#Question 1 -To store a single quote (') as a string in a variable, you can use double quotes (\") to define the string\nsingle_quote_str = \"This is a single quote: '\"\n",
      "metadata": {
        "trusted": true
      },
      "outputs": [],
      "execution_count": 2
    },
    {
      "cell_type": "code",
      "source": "#Question 2 - In the variable x = 'a', x is a string type variable. In Python, any sequence of characters enclosed within single quotes (') or double quotes (\") is considered a string. So, x is a string variable holding the character 'a'. Even though it's just one character, it's still treated as a string because it's enclosed within quotes. If it were a character type variable, it would typically be represented differently in Python, such as with a character type from other programming languages like C or C++. But in Python, there isn't a distinct character type like in those languages; instead, individual characters are represented as strings of length 1. Therefore, x is a string type variable in this case.",
      "metadata": {
        "trusted": true
      },
      "outputs": [],
      "execution_count": null
    },
    {
      "cell_type": "code",
      "source": "x = 'Welcome to Python foundation course'\n\n\nprint(x.find('f'))  \n\n\nprint(x.count('o'))  \n\nprint(len(x))  \n\n\nprint(x + ' - Learn Python!')  \n",
      "metadata": {
        "trusted": true
      },
      "outputs": [
        {
          "name": "stdout",
          "text": "18\n6\n35\nWelcome to Python foundation course - Learn Python!\n",
          "output_type": "stream"
        }
      ],
      "execution_count": 3
    },
    {
      "cell_type": "code",
      "source": "#Question -4\nwork = 'PanaJi@12256'\n\nlowercase_count = 0\nuppercase_count = 0\nnumerical_count = 0\n\n\nfor char in work:\n    if char.islower():\n        lowercase_count += 1\n    elif char.isupper():\n        uppercase_count += 1\n    elif char.isdigit():\n        numerical_count += 1\n\n\nprint(\"Total number of lowercase alphabets:\", lowercase_count)  \nprint(\"Total number of uppercase alphabets:\", uppercase_count)  \nprint(\"Total number of numerical characters:\", numerical_count)  \n",
      "metadata": {
        "trusted": true
      },
      "outputs": [
        {
          "name": "stdout",
          "text": "Total number of lowercase alphabets: 4\nTotal number of uppercase alphabets: 2\nTotal number of numerical characters: 5\n",
          "output_type": "stream"
        }
      ],
      "execution_count": 4
    },
    {
      "cell_type": "code",
      "source": "#Question 5-\nnumber = 42\nnumber_str = str(number)\n\nprint(\"Original numerical value:\", number)\nprint(\"Converted string value:\", number_str)\nprint(\"Type of the converted string value:\", type(number_str))\n",
      "metadata": {
        "trusted": true
      },
      "outputs": [
        {
          "name": "stdout",
          "text": "Original numerical value: 42\nConverted string value: 42\nType of the converted string value: <class 'str'>\n",
          "output_type": "stream"
        }
      ],
      "execution_count": 5
    },
    {
      "cell_type": "code",
      "source": "",
      "metadata": {
        "trusted": true
      },
      "outputs": [],
      "execution_count": null
    }
  ]
}