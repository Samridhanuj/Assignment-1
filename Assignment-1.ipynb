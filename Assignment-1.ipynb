{
  "metadata": {
    "kernelspec": {
      "name": "python",
      "display_name": "Python (Pyodide)",
      "language": "python"
    },
    "language_info": {
      "codemirror_mode": {
        "name": "python",
        "version": 3
      },
      "file_extension": ".py",
      "mimetype": "text/x-python",
      "name": "python",
      "nbconvert_exporter": "python",
      "pygments_lexer": "ipython3",
      "version": "3.8"
    }
  },
  "nbformat_minor": 4,
  "nbformat": 4,
  "cells": [
    {
      "cell_type": "code",
      "source": "#Question 1 - Conventions for declaring variables in programming languages like Python typically include:\n\nVariable names should start with a letter (a-z, A-Z) or an underscore (_).\nThe subsequent characters in the variable name can be letters, underscores, or digits (0-9).\nVariable names are case-sensitive.\nVariable names should be descriptive and indicative of their purpose.\nAvoid using reserved keywords as variable names.\nFollow a consistent naming convention (e.g., camelCase, snake_case) for readability.\n\n#Question 2 -  If you declare a restricted keyword as a variable in a programming language like Python, it will typically result in a syntax error or an unintended behavior. For example, if you try to declare a variable with the name \"if\", which is a reserved keyword in Python used for conditional statements, you'll encounter a syntax error.\n\n#Question 3 - Yes, in many programming languages including Python, you can declare a string as a variable name. However, it's generally not recommended as it may lead to confusion and reduced readability of the code.\n\n",
      "metadata": {
        "trusted": true
      },
      "outputs": [],
      "execution_count": null
    },
    {
      "cell_type": "code",
      "source": "#question 4 -\n_ = 10\nprint(_)\n",
      "metadata": {
        "trusted": true
      },
      "outputs": [
        {
          "name": "stdout",
          "text": "10\n",
          "output_type": "stream"
        }
      ],
      "execution_count": 1
    },
    {
      "cell_type": "code",
      "source": "x = 5\nprint(type(x))  \n\nx = \"Hello\"\nprint(type(x))  \n\nx = [1, 2, 3]\nprint(type(x))  \n",
      "metadata": {
        "trusted": true
      },
      "outputs": [
        {
          "name": "stdout",
          "text": "<class 'int'>\n<class 'str'>\n<class 'list'>\n",
          "output_type": "stream"
        }
      ],
      "execution_count": 2
    },
    {
      "cell_type": "code",
      "source": "",
      "metadata": {
        "trusted": true
      },
      "outputs": [],
      "execution_count": null
    }
  ]
}